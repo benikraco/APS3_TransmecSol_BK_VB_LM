{
 "cells": [
  {
   "cell_type": "markdown",
   "id": "e940a585",
   "metadata": {},
   "source": [
    "# APS 3: ANÁLISE DE TRELIÇAS PLANAS\n",
    "#### **Grupo:** Beni Kracochansky, Luca Machado e Vitor Bandeira"
   ]
  },
  {
   "cell_type": "code",
   "execution_count": 1,
   "id": "ac697730",
   "metadata": {},
   "outputs": [],
   "source": [
    "from funcoesLimpo import *"
   ]
  },
  {
   "cell_type": "code",
   "execution_count": 27,
   "id": "dd526de7",
   "metadata": {},
   "outputs": [
    {
     "data": {
      "text/plain": [
       "array([[0., 2., 4., 6., 8., 2., 4., 6., 4.],\n",
       "       [0., 0., 0., 0., 0., 2., 2., 2., 4.]])"
      ]
     },
     "execution_count": 27,
     "metadata": {},
     "output_type": "execute_result"
    }
   ],
   "source": [
    "[nn, N, nm, Inc, nc, F, nr, R] = importa(\"entrada.xls\")\n",
    "E = Inc[0, 2]\n",
    "A = Inc[0, 3]\n",
    "N"
   ]
  },
  {
   "cell_type": "code",
   "execution_count": 28,
   "id": "3a8cda23",
   "metadata": {},
   "outputs": [
    {
     "data": {
      "text/plain": [
       "array([[1.00000000e+00, 2.00000000e+00, 2.10000000e+11, 7.06858347e-02],\n",
       "       [2.00000000e+00, 3.00000000e+00, 2.10000000e+11, 7.06858347e-02],\n",
       "       [3.00000000e+00, 4.00000000e+00, 2.10000000e+11, 7.06858347e-02],\n",
       "       [4.00000000e+00, 5.00000000e+00, 2.10000000e+11, 7.06858347e-02],\n",
       "       [1.00000000e+00, 6.00000000e+00, 2.10000000e+11, 7.06858347e-02],\n",
       "       [2.00000000e+00, 6.00000000e+00, 2.10000000e+11, 7.06858347e-02],\n",
       "       [2.00000000e+00, 7.00000000e+00, 2.10000000e+11, 7.06858347e-02],\n",
       "       [3.00000000e+00, 7.00000000e+00, 2.10000000e+11, 7.06858347e-02],\n",
       "       [4.00000000e+00, 7.00000000e+00, 2.10000000e+11, 7.06858347e-02],\n",
       "       [4.00000000e+00, 8.00000000e+00, 2.10000000e+11, 7.06858347e-02],\n",
       "       [5.00000000e+00, 8.00000000e+00, 2.10000000e+11, 7.06858347e-02],\n",
       "       [6.00000000e+00, 7.00000000e+00, 2.10000000e+11, 7.06858347e-02],\n",
       "       [6.00000000e+00, 9.00000000e+00, 2.10000000e+11, 7.06858347e-02],\n",
       "       [7.00000000e+00, 8.00000000e+00, 2.10000000e+11, 7.06858347e-02],\n",
       "       [7.00000000e+00, 9.00000000e+00, 2.10000000e+11, 7.06858347e-02],\n",
       "       [8.00000000e+00, 9.00000000e+00, 2.10000000e+11, 7.06858347e-02]])"
      ]
     },
     "execution_count": 28,
     "metadata": {},
     "output_type": "execute_result"
    }
   ],
   "source": [
    "Inc"
   ]
  },
  {
   "cell_type": "code",
   "execution_count": 29,
   "id": "48ac11af",
   "metadata": {
    "scrolled": true
   },
   "outputs": [
    {
     "data": {
      "image/png": "[encoded data removed]",
      "text/plain": [
       "<Figure size 432x288 with 1 Axes>"
      ]
     },
     "metadata": {
      "needs_background": "light"
     },
     "output_type": "display_data"
    }
   ],
   "source": [
    "plota(N, Inc)"
   ]
  },
  {
   "cell_type": "code",
   "execution_count": 30,
   "id": "19a4a892",
   "metadata": {},
   "outputs": [
    {
     "data": {
      "text/plain": [
       "array([[-1.,  0.,  0.,  0., -1.,  0.,  0.,  0.,  0.,  0.,  0.,  0.,  0.,\n",
       "         0.,  0.,  0.],\n",
       "       [ 1., -1.,  0.,  0.,  0., -1., -1.,  0.,  0.,  0.,  0.,  0.,  0.,\n",
       "         0.,  0.,  0.],\n",
       "       [ 0.,  1., -1.,  0.,  0.,  0.,  0., -1.,  0.,  0.,  0.,  0.,  0.,\n",
       "         0.,  0.,  0.],\n",
       "       [ 0.,  0.,  1., -1.,  0.,  0.,  0.,  0., -1., -1.,  0.,  0.,  0.,\n",
       "         0.,  0.,  0.],\n",
       "       [ 0.,  0.,  0.,  1.,  0.,  0.,  0.,  0.,  0.,  0., -1.,  0.,  0.,\n",
       "         0.,  0.,  0.],\n",
       "       [ 0.,  0.,  0.,  0.,  1.,  1.,  0.,  0.,  0.,  0.,  0., -1., -1.,\n",
       "         0.,  0.,  0.],\n",
       "       [ 0.,  0.,  0.,  0.,  0.,  0.,  1.,  1.,  1.,  0.,  0.,  1.,  0.,\n",
       "        -1., -1.,  0.],\n",
       "       [ 0.,  0.,  0.,  0.,  0.,  0.,  0.,  0.,  0.,  1.,  1.,  0.,  0.,\n",
       "         1.,  0., -1.],\n",
       "       [ 0.,  0.,  0.,  0.,  0.,  0.,  0.,  0.,  0.,  0.,  0.,  0.,  1.,\n",
       "         0.,  1.,  1.]])"
      ]
     },
     "execution_count": 30,
     "metadata": {},
     "output_type": "execute_result"
    }
   ],
   "source": [
    "conect = matriz_conect(Inc,nn, nm)\n",
    "conect"
   ]
  },
  {
   "cell_type": "code",
   "execution_count": 31,
   "id": "38515a5c",
   "metadata": {},
   "outputs": [
    {
     "data": {
      "text/plain": [
       "array([[ 2.,  2.,  2.,  2.,  2.,  0.,  2.,  0., -2.,  0., -2.,  2.,  2.,\n",
       "         2.,  0., -2.],\n",
       "       [ 0.,  0.,  0.,  0.,  2.,  2.,  2.,  2.,  2.,  2.,  2.,  0.,  2.,\n",
       "         0.,  2.,  2.]])"
      ]
     },
     "execution_count": 31,
     "metadata": {},
     "output_type": "execute_result"
    }
   ],
   "source": [
    "membros = matriz_membros(N, conect)\n",
    "membros"
   ]
  },
  {
   "cell_type": "code",
   "execution_count": 32,
   "id": "45ddedaf",
   "metadata": {},
   "outputs": [
    {
     "data": {
      "text/plain": [
       "array([[2.        ],\n",
       "       [2.        ],\n",
       "       [2.        ],\n",
       "       [2.        ],\n",
       "       [2.82842712],\n",
       "       [2.        ],\n",
       "       [2.82842712],\n",
       "       [2.        ],\n",
       "       [2.82842712],\n",
       "       [2.        ],\n",
       "       [2.82842712],\n",
       "       [2.        ],\n",
       "       [2.82842712],\n",
       "       [2.        ],\n",
       "       [2.        ],\n",
       "       [2.82842712]])"
      ]
     },
     "execution_count": 32,
     "metadata": {},
     "output_type": "execute_result"
    }
   ],
   "source": [
    "L = calculaL(membros)\n",
    "L"
   ]
  },
  {
   "cell_type": "markdown",
   "id": "6a045063",
   "metadata": {},
   "source": [
    "trig"
   ]
  },
  {
   "cell_type": "code",
   "execution_count": 33,
   "id": "060b83fe",
   "metadata": {},
   "outputs": [
    {
     "name": "stdout",
     "output_type": "stream",
     "text": [
      "Matriz Ke:\n",
      "[[ 0.00000000e+00 -0.00000000e+00  0.00000000e+00 -0.00000000e+00\n",
      "   0.00000000e+00 -0.00000000e+00  0.00000000e+00 -0.00000000e+00\n",
      "   0.00000000e+00 -0.00000000e+00  0.00000000e+00 -0.00000000e+00\n",
      "   0.00000000e+00 -0.00000000e+00  0.00000000e+00 -0.00000000e+00\n",
      "   0.00000000e+00 -0.00000000e+00]\n",
      " [-0.00000000e+00  0.00000000e+00 -0.00000000e+00  0.00000000e+00\n",
      "  -0.00000000e+00  0.00000000e+00 -0.00000000e+00  0.00000000e+00\n",
      "  -0.00000000e+00  0.00000000e+00 -0.00000000e+00  0.00000000e+00\n",
      "  -0.00000000e+00  0.00000000e+00 -0.00000000e+00  0.00000000e+00\n",
      "  -0.00000000e+00  0.00000000e+00]\n",
      " [ 0.00000000e+00 -0.00000000e+00  0.00000000e+00 -0.00000000e+00\n",
      "   0.00000000e+00 -0.00000000e+00  0.00000000e+00 -0.00000000e+00\n",
      "   0.00000000e+00 -0.00000000e+00  0.00000000e+00 -0.00000000e+00\n",
      "   0.00000000e+00 -0.00000000e+00  0.00000000e+00 -0.00000000e+00\n",
      "   0.00000000e+00 -0.00000000e+00]\n",
      " [-0.00000000e+00  0.00000000e+00 -0.00000000e+00  0.00000000e+00\n",
      "  -0.00000000e+00  0.00000000e+00 -0.00000000e+00  0.00000000e+00\n",
      "  -0.00000000e+00  0.00000000e+00 -0.00000000e+00  0.00000000e+00\n",
      "  -0.00000000e+00  0.00000000e+00 -0.00000000e+00  0.00000000e+00\n",
      "  -0.00000000e+00  0.00000000e+00]\n",
      " [ 0.00000000e+00 -0.00000000e+00  0.00000000e+00 -0.00000000e+00\n",
      "   0.00000000e+00 -0.00000000e+00  0.00000000e+00 -0.00000000e+00\n",
      "   0.00000000e+00 -0.00000000e+00  0.00000000e+00 -0.00000000e+00\n",
      "   0.00000000e+00 -0.00000000e+00  0.00000000e+00 -0.00000000e+00\n",
      "   0.00000000e+00 -0.00000000e+00]\n",
      " [-0.00000000e+00  0.00000000e+00 -0.00000000e+00  0.00000000e+00\n",
      "  -0.00000000e+00  0.00000000e+00 -0.00000000e+00  0.00000000e+00\n",
      "  -0.00000000e+00  0.00000000e+00 -0.00000000e+00  0.00000000e+00\n",
      "  -0.00000000e+00  0.00000000e+00 -0.00000000e+00  0.00000000e+00\n",
      "  -0.00000000e+00  0.00000000e+00]\n",
      " [ 0.00000000e+00 -0.00000000e+00  0.00000000e+00 -0.00000000e+00\n",
      "   0.00000000e+00 -0.00000000e+00  0.00000000e+00 -0.00000000e+00\n",
      "   0.00000000e+00 -0.00000000e+00  0.00000000e+00 -0.00000000e+00\n",
      "   0.00000000e+00 -0.00000000e+00  0.00000000e+00 -0.00000000e+00\n",
      "   0.00000000e+00 -0.00000000e+00]\n",
      " [-0.00000000e+00  0.00000000e+00 -0.00000000e+00  0.00000000e+00\n",
      "  -0.00000000e+00  0.00000000e+00 -0.00000000e+00  0.00000000e+00\n",
      "  -0.00000000e+00  0.00000000e+00 -0.00000000e+00  0.00000000e+00\n",
      "  -0.00000000e+00  0.00000000e+00 -0.00000000e+00  0.00000000e+00\n",
      "  -0.00000000e+00  0.00000000e+00]\n",
      " [ 0.00000000e+00 -0.00000000e+00  0.00000000e+00 -0.00000000e+00\n",
      "   0.00000000e+00 -0.00000000e+00  0.00000000e+00 -0.00000000e+00\n",
      "   0.00000000e+00 -0.00000000e+00  0.00000000e+00 -0.00000000e+00\n",
      "   0.00000000e+00 -0.00000000e+00  0.00000000e+00 -0.00000000e+00\n",
      "   0.00000000e+00 -0.00000000e+00]\n",
      " [-0.00000000e+00  0.00000000e+00 -0.00000000e+00  0.00000000e+00\n",
      "  -0.00000000e+00  0.00000000e+00 -0.00000000e+00  0.00000000e+00\n",
      "  -0.00000000e+00  0.00000000e+00 -0.00000000e+00  0.00000000e+00\n",
      "  -0.00000000e+00  0.00000000e+00 -0.00000000e+00  0.00000000e+00\n",
      "  -0.00000000e+00  0.00000000e+00]\n",
      " [ 0.00000000e+00 -0.00000000e+00  0.00000000e+00 -0.00000000e+00\n",
      "   0.00000000e+00 -0.00000000e+00  0.00000000e+00 -0.00000000e+00\n",
      "   0.00000000e+00 -0.00000000e+00  0.00000000e+00 -0.00000000e+00\n",
      "   0.00000000e+00 -0.00000000e+00  0.00000000e+00 -0.00000000e+00\n",
      "   0.00000000e+00 -0.00000000e+00]\n",
      " [-0.00000000e+00  0.00000000e+00 -0.00000000e+00  0.00000000e+00\n",
      "  -0.00000000e+00  0.00000000e+00 -0.00000000e+00  0.00000000e+00\n",
      "  -0.00000000e+00  0.00000000e+00 -0.00000000e+00  0.00000000e+00\n",
      "  -0.00000000e+00  0.00000000e+00 -0.00000000e+00  0.00000000e+00\n",
      "  -0.00000000e+00  0.00000000e+00]\n",
      " [ 0.00000000e+00 -0.00000000e+00  0.00000000e+00 -0.00000000e+00\n",
      "   0.00000000e+00 -0.00000000e+00  0.00000000e+00 -0.00000000e+00\n",
      "   0.00000000e+00 -0.00000000e+00  0.00000000e+00 -0.00000000e+00\n",
      "   0.00000000e+00 -0.00000000e+00  0.00000000e+00 -0.00000000e+00\n",
      "   0.00000000e+00 -0.00000000e+00]\n",
      " [-0.00000000e+00  0.00000000e+00 -0.00000000e+00  0.00000000e+00\n",
      "  -0.00000000e+00  0.00000000e+00 -0.00000000e+00  0.00000000e+00\n",
      "  -0.00000000e+00  0.00000000e+00 -0.00000000e+00  0.00000000e+00\n",
      "  -0.00000000e+00  0.00000000e+00 -0.00000000e+00  0.00000000e+00\n",
      "  -0.00000000e+00  0.00000000e+00]\n",
      " [ 0.00000000e+00 -0.00000000e+00  0.00000000e+00 -0.00000000e+00\n",
      "   0.00000000e+00 -0.00000000e+00  0.00000000e+00 -0.00000000e+00\n",
      "   0.00000000e+00 -0.00000000e+00  0.00000000e+00 -0.00000000e+00\n",
      "   0.00000000e+00 -0.00000000e+00  2.62407774e+09 -2.62407774e+09\n",
      "  -2.62407774e+09  2.62407774e+09]\n",
      " [-0.00000000e+00  0.00000000e+00 -0.00000000e+00  0.00000000e+00\n",
      "  -0.00000000e+00  0.00000000e+00 -0.00000000e+00  0.00000000e+00\n",
      "  -0.00000000e+00  0.00000000e+00 -0.00000000e+00  0.00000000e+00\n",
      "  -0.00000000e+00  0.00000000e+00 -2.62407774e+09  2.62407774e+09\n",
      "   2.62407774e+09 -2.62407774e+09]\n",
      " [ 0.00000000e+00 -0.00000000e+00  0.00000000e+00 -0.00000000e+00\n",
      "   0.00000000e+00 -0.00000000e+00  0.00000000e+00 -0.00000000e+00\n",
      "   0.00000000e+00 -0.00000000e+00  0.00000000e+00 -0.00000000e+00\n",
      "   0.00000000e+00 -0.00000000e+00 -2.62407774e+09  2.62407774e+09\n",
      "   2.62407774e+09 -2.62407774e+09]\n",
      " [-0.00000000e+00  0.00000000e+00 -0.00000000e+00  0.00000000e+00\n",
      "  -0.00000000e+00  0.00000000e+00 -0.00000000e+00  0.00000000e+00\n",
      "  -0.00000000e+00  0.00000000e+00 -0.00000000e+00  0.00000000e+00\n",
      "  -0.00000000e+00  0.00000000e+00  2.62407774e+09 -2.62407774e+09\n",
      "  -2.62407774e+09  2.62407774e+09]]\n",
      " \n",
      "Matriz Kg:\n",
      "[[ 1.00460904e+10  2.62407774e+09 -7.42201264e+09  0.00000000e+00\n",
      "   0.00000000e+00  0.00000000e+00  0.00000000e+00  0.00000000e+00\n",
      "   0.00000000e+00  0.00000000e+00 -2.62407774e+09 -2.62407774e+09\n",
      "   0.00000000e+00  0.00000000e+00  0.00000000e+00  0.00000000e+00\n",
      "   0.00000000e+00  0.00000000e+00]\n",
      " [ 2.62407774e+09  2.62407774e+09  0.00000000e+00  0.00000000e+00\n",
      "   0.00000000e+00  0.00000000e+00  0.00000000e+00  0.00000000e+00\n",
      "   0.00000000e+00  0.00000000e+00 -2.62407774e+09 -2.62407774e+09\n",
      "   0.00000000e+00  0.00000000e+00  0.00000000e+00  0.00000000e+00\n",
      "   0.00000000e+00  0.00000000e+00]\n",
      " [-7.42201264e+09  0.00000000e+00  1.74681030e+10  2.62407774e+09\n",
      "  -7.42201264e+09  0.00000000e+00  0.00000000e+00  0.00000000e+00\n",
      "   0.00000000e+00  0.00000000e+00  0.00000000e+00  0.00000000e+00\n",
      "  -2.62407774e+09 -2.62407774e+09  0.00000000e+00  0.00000000e+00\n",
      "   0.00000000e+00  0.00000000e+00]\n",
      " [ 0.00000000e+00  0.00000000e+00  2.62407774e+09  1.00460904e+10\n",
      "   0.00000000e+00  0.00000000e+00  0.00000000e+00  0.00000000e+00\n",
      "   0.00000000e+00  0.00000000e+00  0.00000000e+00 -7.42201264e+09\n",
      "  -2.62407774e+09 -2.62407774e+09  0.00000000e+00  0.00000000e+00\n",
      "   0.00000000e+00  0.00000000e+00]\n",
      " [ 0.00000000e+00  0.00000000e+00 -7.42201264e+09  0.00000000e+00\n",
      "   1.48440253e+10  0.00000000e+00 -7.42201264e+09  0.00000000e+00\n",
      "   0.00000000e+00  0.00000000e+00  0.00000000e+00  0.00000000e+00\n",
      "   0.00000000e+00  0.00000000e+00  0.00000000e+00  0.00000000e+00\n",
      "   0.00000000e+00  0.00000000e+00]\n",
      " [ 0.00000000e+00  0.00000000e+00  0.00000000e+00  0.00000000e+00\n",
      "   0.00000000e+00  7.42201264e+09  0.00000000e+00  0.00000000e+00\n",
      "   0.00000000e+00  0.00000000e+00  0.00000000e+00  0.00000000e+00\n",
      "   0.00000000e+00 -7.42201264e+09  0.00000000e+00  0.00000000e+00\n",
      "   0.00000000e+00  0.00000000e+00]\n",
      " [ 0.00000000e+00  0.00000000e+00  0.00000000e+00  0.00000000e+00\n",
      "  -7.42201264e+09  0.00000000e+00  1.74681030e+10 -2.62407774e+09\n",
      "  -7.42201264e+09  0.00000000e+00  0.00000000e+00  0.00000000e+00\n",
      "  -2.62407774e+09  2.62407774e+09  0.00000000e+00  0.00000000e+00\n",
      "   0.00000000e+00  0.00000000e+00]\n",
      " [ 0.00000000e+00  0.00000000e+00  0.00000000e+00  0.00000000e+00\n",
      "   0.00000000e+00  0.00000000e+00 -2.62407774e+09  1.00460904e+10\n",
      "   0.00000000e+00  0.00000000e+00  0.00000000e+00  0.00000000e+00\n",
      "   2.62407774e+09 -2.62407774e+09  0.00000000e+00 -7.42201264e+09\n",
      "   0.00000000e+00  0.00000000e+00]\n",
      " [ 0.00000000e+00  0.00000000e+00  0.00000000e+00  0.00000000e+00\n",
      "   0.00000000e+00  0.00000000e+00 -7.42201264e+09  0.00000000e+00\n",
      "   1.00460904e+10 -2.62407774e+09  0.00000000e+00  0.00000000e+00\n",
      "   0.00000000e+00  0.00000000e+00 -2.62407774e+09  2.62407774e+09\n",
      "   0.00000000e+00  0.00000000e+00]\n",
      " [ 0.00000000e+00  0.00000000e+00  0.00000000e+00  0.00000000e+00\n",
      "   0.00000000e+00  0.00000000e+00  0.00000000e+00  0.00000000e+00\n",
      "  -2.62407774e+09  2.62407774e+09  0.00000000e+00  0.00000000e+00\n",
      "   0.00000000e+00  0.00000000e+00  2.62407774e+09 -2.62407774e+09\n",
      "   0.00000000e+00  0.00000000e+00]\n",
      " [-2.62407774e+09 -2.62407774e+09  0.00000000e+00  0.00000000e+00\n",
      "   0.00000000e+00  0.00000000e+00  0.00000000e+00  0.00000000e+00\n",
      "   0.00000000e+00  0.00000000e+00  1.26701681e+10  5.24815547e+09\n",
      "  -7.42201264e+09  0.00000000e+00  0.00000000e+00  0.00000000e+00\n",
      "  -2.62407774e+09 -2.62407774e+09]\n",
      " [-2.62407774e+09 -2.62407774e+09  0.00000000e+00 -7.42201264e+09\n",
      "   0.00000000e+00  0.00000000e+00  0.00000000e+00  0.00000000e+00\n",
      "   0.00000000e+00  0.00000000e+00  5.24815547e+09  1.26701681e+10\n",
      "   0.00000000e+00  0.00000000e+00  0.00000000e+00  0.00000000e+00\n",
      "  -2.62407774e+09 -2.62407774e+09]\n",
      " [ 0.00000000e+00  0.00000000e+00 -2.62407774e+09 -2.62407774e+09\n",
      "   0.00000000e+00  0.00000000e+00 -2.62407774e+09  2.62407774e+09\n",
      "   0.00000000e+00  0.00000000e+00 -7.42201264e+09  0.00000000e+00\n",
      "   2.00921808e+10  0.00000000e+00 -7.42201264e+09  0.00000000e+00\n",
      "   0.00000000e+00  0.00000000e+00]\n",
      " [ 0.00000000e+00  0.00000000e+00 -2.62407774e+09 -2.62407774e+09\n",
      "   0.00000000e+00 -7.42201264e+09  2.62407774e+09 -2.62407774e+09\n",
      "   0.00000000e+00  0.00000000e+00  0.00000000e+00  0.00000000e+00\n",
      "   0.00000000e+00  2.00921808e+10  0.00000000e+00  0.00000000e+00\n",
      "   0.00000000e+00 -7.42201264e+09]\n",
      " [ 0.00000000e+00  0.00000000e+00  0.00000000e+00  0.00000000e+00\n",
      "   0.00000000e+00  0.00000000e+00  0.00000000e+00  0.00000000e+00\n",
      "  -2.62407774e+09  2.62407774e+09  0.00000000e+00  0.00000000e+00\n",
      "  -7.42201264e+09  0.00000000e+00  1.26701681e+10 -5.24815547e+09\n",
      "  -2.62407774e+09  2.62407774e+09]\n",
      " [ 0.00000000e+00  0.00000000e+00  0.00000000e+00  0.00000000e+00\n",
      "   0.00000000e+00  0.00000000e+00  0.00000000e+00 -7.42201264e+09\n",
      "   2.62407774e+09 -2.62407774e+09  0.00000000e+00  0.00000000e+00\n",
      "   0.00000000e+00  0.00000000e+00 -5.24815547e+09  1.26701681e+10\n",
      "   2.62407774e+09 -2.62407774e+09]\n",
      " [ 0.00000000e+00  0.00000000e+00  0.00000000e+00  0.00000000e+00\n",
      "   0.00000000e+00  0.00000000e+00  0.00000000e+00  0.00000000e+00\n",
      "   0.00000000e+00  0.00000000e+00 -2.62407774e+09 -2.62407774e+09\n",
      "   0.00000000e+00  0.00000000e+00 -2.62407774e+09  2.62407774e+09\n",
      "   5.24815547e+09  0.00000000e+00]\n",
      " [ 0.00000000e+00  0.00000000e+00  0.00000000e+00  0.00000000e+00\n",
      "   0.00000000e+00  0.00000000e+00  0.00000000e+00  0.00000000e+00\n",
      "   0.00000000e+00  0.00000000e+00 -2.62407774e+09 -2.62407774e+09\n",
      "   0.00000000e+00 -7.42201264e+09  2.62407774e+09 -2.62407774e+09\n",
      "   0.00000000e+00  1.26701681e+10]]\n"
     ]
    }
   ],
   "source": [
    "kg, ke = matriz_Ke(L, conect, membros, A, E, nn)\n",
    "print(\"Matriz Ke:\")\n",
    "print(ke)\n",
    "print(\" \")\n",
    "print(\"Matriz Kg:\")\n",
    "print(kg)"
   ]
  },
  {
   "cell_type": "code",
   "execution_count": 34,
   "id": "b3fd9dca",
   "metadata": {},
   "outputs": [
    {
     "name": "stdout",
     "output_type": "stream",
     "text": [
      "Matriz Kg com condicoes de contorno:\n",
      "[[ 1.74681030e+10 -7.42201264e+09  0.00000000e+00  0.00000000e+00\n",
      "   0.00000000e+00 -2.62407774e+09 -2.62407774e+09  0.00000000e+00\n",
      "   0.00000000e+00  0.00000000e+00  0.00000000e+00]\n",
      " [-7.42201264e+09  1.48440253e+10 -7.42201264e+09  0.00000000e+00\n",
      "   0.00000000e+00  0.00000000e+00  0.00000000e+00  0.00000000e+00\n",
      "   0.00000000e+00  0.00000000e+00  0.00000000e+00]\n",
      " [ 0.00000000e+00 -7.42201264e+09  1.74681030e+10  0.00000000e+00\n",
      "   0.00000000e+00 -2.62407774e+09  2.62407774e+09  0.00000000e+00\n",
      "   0.00000000e+00  0.00000000e+00  0.00000000e+00]\n",
      " [ 0.00000000e+00  0.00000000e+00  0.00000000e+00  1.26701681e+10\n",
      "   5.24815547e+09 -7.42201264e+09  0.00000000e+00  0.00000000e+00\n",
      "   0.00000000e+00 -2.62407774e+09 -2.62407774e+09]\n",
      " [ 0.00000000e+00  0.00000000e+00  0.00000000e+00  5.24815547e+09\n",
      "   1.26701681e+10  0.00000000e+00  0.00000000e+00  0.00000000e+00\n",
      "   0.00000000e+00 -2.62407774e+09 -2.62407774e+09]\n",
      " [-2.62407774e+09  0.00000000e+00 -2.62407774e+09 -7.42201264e+09\n",
      "   0.00000000e+00  2.00921808e+10  0.00000000e+00 -7.42201264e+09\n",
      "   0.00000000e+00  0.00000000e+00  0.00000000e+00]\n",
      " [-2.62407774e+09  0.00000000e+00  2.62407774e+09  0.00000000e+00\n",
      "   0.00000000e+00  0.00000000e+00  2.00921808e+10  0.00000000e+00\n",
      "   0.00000000e+00  0.00000000e+00 -7.42201264e+09]\n",
      " [ 0.00000000e+00  0.00000000e+00  0.00000000e+00  0.00000000e+00\n",
      "   0.00000000e+00 -7.42201264e+09  0.00000000e+00  1.26701681e+10\n",
      "  -5.24815547e+09 -2.62407774e+09  2.62407774e+09]\n",
      " [ 0.00000000e+00  0.00000000e+00  0.00000000e+00  0.00000000e+00\n",
      "   0.00000000e+00  0.00000000e+00  0.00000000e+00 -5.24815547e+09\n",
      "   1.26701681e+10  2.62407774e+09 -2.62407774e+09]\n",
      " [ 0.00000000e+00  0.00000000e+00  0.00000000e+00 -2.62407774e+09\n",
      "  -2.62407774e+09  0.00000000e+00  0.00000000e+00 -2.62407774e+09\n",
      "   2.62407774e+09  5.24815547e+09  0.00000000e+00]\n",
      " [ 0.00000000e+00  0.00000000e+00  0.00000000e+00 -2.62407774e+09\n",
      "  -2.62407774e+09  0.00000000e+00 -7.42201264e+09  2.62407774e+09\n",
      "  -2.62407774e+09  0.00000000e+00  1.26701681e+10]]\n",
      " \n",
      "Vetor de forcas com condicoes de contorno:\n",
      "[[     0.]\n",
      " [     0.]\n",
      " [     0.]\n",
      " [  4000.]\n",
      " [     0.]\n",
      " [     0.]\n",
      " [     0.]\n",
      " [     0.]\n",
      " [     0.]\n",
      " [  4000.]\n",
      " [-20000.]]\n"
     ]
    }
   ],
   "source": [
    "kgcc, fcc = cond_contorno(kg, R), cond_contorno(F, R) \n",
    "print(\"Matriz Kg com condicoes de contorno:\")\n",
    "print(kgcc)\n",
    "print(\" \")\n",
    "print(\"Vetor de forcas com condicoes de contorno:\")\n",
    "print(fcc)"
   ]
  },
  {
   "cell_type": "code",
   "execution_count": 35,
   "id": "cd3cf327",
   "metadata": {},
   "outputs": [
    {
     "name": "stderr",
     "output_type": "stream",
     "text": [
      "C:\\Users\\Windows10\\Desktop\\Insper5S\\TransfCalMecSol\\APS3_TransmecSol_BK_VB_LM\\funcoesLimpo.py:209: RuntimeWarning: invalid value encountered in true_divide\n",
      "  err = max(abs((desloc_new-desloc)/desloc_new))\n"
     ]
    },
    {
     "data": {
      "text/plain": [
       "array([[ 1.04878250e-06],\n",
       "       [-7.15265592e-07],\n",
       "       [ 1.31965345e-06],\n",
       "       [ 6.63650042e-06],\n",
       "       [ 3.60293331e-06],\n",
       "       [-3.48574563e-06],\n",
       "       [-9.01574228e-07],\n",
       "       [ 6.94221663e-06],\n",
       "       [-4.44758690e-06],\n",
       "       [-7.62473349e-06],\n",
       "       [-2.34489036e-06]])"
      ]
     },
     "execution_count": 35,
     "metadata": {},
     "output_type": "execute_result"
    }
   ],
   "source": [
    "desloc = jacobi(kgcc, fcc, 1e-5)\n",
    "desloc"
   ]
  },
  {
   "cell_type": "code",
   "execution_count": 36,
   "id": "2e38e749",
   "metadata": {},
   "outputs": [
    {
     "data": {
      "text/plain": [
       "array([[ 0.00000000e+00],\n",
       "       [ 0.00000000e+00],\n",
       "       [ 1.04878250e-06],\n",
       "       [ 0.00000000e+00],\n",
       "       [-7.15265592e-07],\n",
       "       [ 0.00000000e+00],\n",
       "       [ 1.31965345e-06],\n",
       "       [ 0.00000000e+00],\n",
       "       [ 0.00000000e+00],\n",
       "       [ 0.00000000e+00],\n",
       "       [ 6.63650042e-06],\n",
       "       [ 3.60293331e-06],\n",
       "       [-3.48574563e-06],\n",
       "       [-9.01574228e-07],\n",
       "       [ 6.94221663e-06],\n",
       "       [-4.44758690e-06],\n",
       "       [-7.62473349e-06],\n",
       "       [-2.34489036e-06]])"
      ]
     },
     "execution_count": 36,
     "metadata": {},
     "output_type": "execute_result"
    }
   ],
   "source": [
    "desloc_semcc= desloc_complt(R, desloc)\n",
    "desloc_semcc"
   ]
  },
  {
   "cell_type": "code",
   "execution_count": 41,
   "id": "b21b3c4c",
   "metadata": {},
   "outputs": [
    {
     "data": {
      "text/plain": [
       "array([[-1.        , -0.        ,  1.        ,  0.        ],\n",
       "       [-1.        , -0.        ,  1.        ,  0.        ],\n",
       "       [-1.        , -0.        ,  1.        ,  0.        ],\n",
       "       [-1.        , -0.        ,  1.        ,  0.        ],\n",
       "       [-0.70710678, -0.70710678,  0.70710678,  0.70710678],\n",
       "       [-0.        , -1.        ,  0.        ,  1.        ],\n",
       "       [-0.70710678, -0.70710678,  0.70710678,  0.70710678],\n",
       "       [-0.        , -1.        ,  0.        ,  1.        ],\n",
       "       [ 0.70710678, -0.70710678, -0.70710678,  0.70710678],\n",
       "       [-0.        , -1.        ,  0.        ,  1.        ],\n",
       "       [ 0.70710678, -0.70710678, -0.70710678,  0.70710678],\n",
       "       [-1.        , -0.        ,  1.        ,  0.        ],\n",
       "       [-0.70710678, -0.70710678,  0.70710678,  0.70710678],\n",
       "       [-1.        , -0.        ,  1.        ,  0.        ],\n",
       "       [-0.        , -1.        ,  0.        ,  1.        ],\n",
       "       [ 0.70710678, -0.70710678, -0.70710678,  0.70710678]])"
      ]
     },
     "execution_count": 41,
     "metadata": {},
     "output_type": "execute_result"
    }
   ],
   "source": [
    "result = calc_ang_elemts(N, membros, L)\n",
    "result"
   ]
  },
  {
   "cell_type": "code",
   "execution_count": 42,
   "id": "288d1bf1",
   "metadata": {
    "scrolled": true
   },
   "outputs": [
    {
     "data": {
      "text/plain": [
       "array([[ 5.24391248e-07],\n",
       "       [-8.82024044e-07],\n",
       "       [ 1.01745952e-06],\n",
       "       [-6.59826725e-07],\n",
       "       [ 2.55985843e-06],\n",
       "       [-2.25225377e-06],\n",
       "       [ 1.72048740e-06],\n",
       "       [ 1.05134827e-06],\n",
       "       [-1.31996078e-06],\n",
       "       [ 0.00000000e+00],\n",
       "       [-2.62195624e-07],\n",
       "       [ 5.24391248e-07],\n",
       "       [ 2.62195624e-07],\n",
       "       [ 5.24391248e-07],\n",
       "       [ 0.00000000e+00],\n",
       "       [-2.62195624e-07]])"
      ]
     },
     "execution_count": 42,
     "metadata": {},
     "output_type": "execute_result"
    }
   ],
   "source": [
    "d = calc_deformacao(L,desloc_semcc, result)\n",
    "d\n",
    "# array([[ 2.38096202e-06],\n",
    "#        [ 5.35715327e-06],\n",
    "#        [-2.97616849e-06]])"
   ]
  },
  {
   "cell_type": "code",
   "execution_count": 43,
   "id": "e51bf22e",
   "metadata": {},
   "outputs": [
    {
     "data": {
      "text/plain": [
       "array([[ 110122.16213078],\n",
       "       [-185225.0492598 ],\n",
       "       [ 213666.49934563],\n",
       "       [-138563.61221662],\n",
       "       [ 537570.27105253],\n",
       "       [-472973.29199492],\n",
       "       [ 361302.35344259],\n",
       "       [ 220783.13673389],\n",
       "       [-277191.76405821],\n",
       "       [      0.        ],\n",
       "       [ -55061.08106539],\n",
       "       [ 110122.16213078],\n",
       "       [  55061.08106539],\n",
       "       [ 110122.16213078],\n",
       "       [      0.        ],\n",
       "       [ -55061.08106539]])"
      ]
     },
     "execution_count": 43,
     "metadata": {},
     "output_type": "execute_result"
    }
   ],
   "source": [
    "t = calc_tensao(E, d)\n",
    "t"
   ]
  },
  {
   "cell_type": "code",
   "execution_count": 44,
   "id": "fb4e70c2",
   "metadata": {},
   "outputs": [
    {
     "data": {
      "text/plain": [
       "array([[-34653.14703467],\n",
       "       [-26869.07008485],\n",
       "       [-12476.26146286],\n",
       "       [  6691.49531972],\n",
       "       [ 22766.10635247],\n",
       "       [-39682.21446088],\n",
       "       [ 29887.7298715 ]])"
      ]
     },
     "execution_count": 44,
     "metadata": {},
     "output_type": "execute_result"
    }
   ],
   "source": [
    "reacao_apoio = calc_r_apoio(desloc_semcc, kg, R)\n",
    "reacao_apoio"
   ]
  },
  {
   "cell_type": "code",
   "execution_count": null,
   "id": "d67673b8",
   "metadata": {},
   "outputs": [],
   "source": []
  }
 ],
 "metadata": {
  "kernelspec": {
   "display_name": "Python 3",
   "language": "python",
   "name": "python3"
  },
  "language_info": {
   "codemirror_mode": {
    "name": "ipython",
    "version": 3
   },
   "file_extension": ".py",
   "mimetype": "text/x-python",
   "name": "python",
   "nbconvert_exporter": "python",
   "pygments_lexer": "ipython3",
   "version": "3.8.8"
  }
 },
 "nbformat": 4,
 "nbformat_minor": 5
}
